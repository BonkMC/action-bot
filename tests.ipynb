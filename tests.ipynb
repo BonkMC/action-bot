{
 "cells": [
  {
   "cell_type": "code",
   "id": "initial_id",
   "metadata": {
    "collapsed": true,
    "ExecuteTime": {
     "end_time": "2024-12-11T03:51:40.402362Z",
     "start_time": "2024-12-11T03:51:40.394900Z"
    }
   },
   "source": "import json",
   "outputs": [],
   "execution_count": 1
  },
  {
   "metadata": {
    "ExecuteTime": {
     "end_time": "2024-12-11T03:51:42.667219Z",
     "start_time": "2024-12-11T03:51:42.663216Z"
    }
   },
   "cell_type": "code",
   "source": [
    "with open('data/roleslist.json') as f:\n",
    "    roles_dict = json.load(f)"
   ],
   "id": "80785b2a89b187e8",
   "outputs": [],
   "execution_count": 3
  },
  {
   "metadata": {
    "ExecuteTime": {
     "end_time": "2024-12-11T03:55:05.971675Z",
     "start_time": "2024-12-11T03:55:05.968471Z"
    }
   },
   "cell_type": "code",
   "source": [
    "check_roles = []\n",
    "for role in roles_dict:\n",
    "    a,b = roles_dict[role]\n",
    "    print(a,b)"
   ],
   "id": "59848bb5a26ec9aa",
   "outputs": [
    {
     "name": "stdout",
     "output_type": "stream",
     "text": [
      "1242205810583404635 1303524092846145596\n",
      "1253864870906953758 1259605492230000731\n",
      "1300431983322857532 1298484402216501249\n",
      "1304159042817495102 1277325708082806847\n",
      "1263837661605527603 1263838065047109642\n",
      "1224403446283894866 1259874782103605268\n",
      "1240327290290700449 1259605809860448347\n",
      "1242197189048930314 1259605811974635661\n",
      "1289402864409645056 1289404896059330620\n"
     ]
    }
   ],
   "execution_count": 7
  },
  {
   "metadata": {},
   "cell_type": "code",
   "outputs": [],
   "execution_count": null,
   "source": "",
   "id": "ff5dcc5b17534b5b"
  }
 ],
 "metadata": {
  "kernelspec": {
   "display_name": "Python 3",
   "language": "python",
   "name": "python3"
  },
  "language_info": {
   "codemirror_mode": {
    "name": "ipython",
    "version": 2
   },
   "file_extension": ".py",
   "mimetype": "text/x-python",
   "name": "python",
   "nbconvert_exporter": "python",
   "pygments_lexer": "ipython2",
   "version": "2.7.6"
  }
 },
 "nbformat": 4,
 "nbformat_minor": 5
}
